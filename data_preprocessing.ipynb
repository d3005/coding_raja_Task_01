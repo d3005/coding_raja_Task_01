{
 "cells": [
  {
   "cell_type": "markdown",
   "metadata": {},
   "source": [
    "## Data Collection and Preprocessing"
   ]
  },
  {
   "cell_type": "code",
   "execution_count": 5,
   "metadata": {},
   "outputs": [],
   "source": [
    "import pandas as pd\n",
    "from surprise import Dataset, Reader\n",
    "\n",
    "# Load data\n",
    "movies = pd.read_csv('data/movies.csv')\n",
    "ratings = pd.read_csv('data/ratings.csv')\n",
    "\n",
    "# Preprocessing\n",
    "reader = Reader(rating_scale=(1, 5))\n",
    "data = Dataset.load_from_df(ratings[['userId', 'movieId', 'rating']], reader)\n"
   ]
  },
  {
   "cell_type": "markdown",
   "metadata": {},
   "source": [
    "## Model Training and Evaluation"
   ]
  },
  {
   "cell_type": "code",
   "execution_count": 6,
   "metadata": {},
   "outputs": [
    {
     "data": {
      "text/plain": [
       "['American Beauty (1999)',\n",
       " 'Human Condition III, The (Ningen no joken III) (1961)',\n",
       " 'The Jinx: The Life and Deaths of Robert Durst (2015)',\n",
       " 'Usual Suspects, The (1995)',\n",
       " 'Memories of Matsuko (Kiraware Matsuko no isshô) (2006)',\n",
       " 'Life Is Beautiful (La Vita è bella) (1997)',\n",
       " 'Duck Amuck (1953)',\n",
       " 'Shawshank Redemption, The (1994)',\n",
       " '7 Plus Seven (1970)',\n",
       " 'Planet Earth II (2016)']"
      ]
     },
     "execution_count": 6,
     "metadata": {},
     "output_type": "execute_result"
    }
   ],
   "source": [
    "from surprise import SVD\n",
    "from surprise.model_selection import train_test_split\n",
    "\n",
    "# Train-test split\n",
    "trainset, testset = train_test_split(data, test_size=0.25)\n",
    "\n",
    "# Train model\n",
    "algo = SVD()\n",
    "algo.fit(trainset)\n",
    "\n",
    "def get_top_n_recommendations(user_id, n=10):\n",
    "    user_ratings = ratings[ratings['userId'] == user_id]\n",
    "    user_movies = set(user_ratings['movieId'])\n",
    "    all_movies = set(movies['movieId'])\n",
    "    unseen_movies = list(all_movies - user_movies)\n",
    "\n",
    "    predictions = [algo.predict(user_id, mid) for mid in unseen_movies]\n",
    "    predictions.sort(key=lambda x: x.est, reverse=True)\n",
    "\n",
    "    top_n_movies = [movies[movies['movieId'] == p.iid]['title'].values[0] for p in predictions[:n]]\n",
    "    return top_n_movies\n",
    "\n",
    "# Test the function\n",
    "user_id = 1\n",
    "top_n_movies = get_top_n_recommendations(user_id, n=10)\n",
    "top_n_movies\n"
   ]
  },
  {
   "cell_type": "markdown",
   "metadata": {},
   "source": [
    "## Flask Web Application"
   ]
  },
  {
   "cell_type": "code",
   "execution_count": 7,
   "metadata": {},
   "outputs": [
    {
     "name": "stdout",
     "output_type": "stream",
     "text": [
      " * Serving Flask app '__main__'\n",
      " * Debug mode: off\n"
     ]
    },
    {
     "name": "stderr",
     "output_type": "stream",
     "text": [
      "WARNING: This is a development server. Do not use it in a production deployment. Use a production WSGI server instead.\n",
      " * Running on http://127.0.0.1:5000\n",
      "Press CTRL+C to quit\n"
     ]
    }
   ],
   "source": [
    "from flask import Flask, request, render_template, jsonify\n",
    "import threading\n",
    "\n",
    "app = Flask(__name__)\n",
    "\n",
    "@app.route('/')\n",
    "def index():\n",
    "    return '''\n",
    "    <!DOCTYPE html>\n",
    "    <html>\n",
    "    <head>\n",
    "        <title>Movie Recommender</title>\n",
    "        <link rel=\"stylesheet\" type=\"text/css\" href=\"{{ url_for('static', filename='css/styles.css') }}\">\n",
    "    </head>\n",
    "    <body>\n",
    "        <div class=\"container\">\n",
    "            <h1>Movie Recommender</h1>\n",
    "            <form id=\"recommendation-form\">\n",
    "                <label for=\"user_id\">User ID:</label>\n",
    "                <input type=\"text\" id=\"user_id\" name=\"user_id\" required>\n",
    "                <button type=\"submit\">Get Recommendations</button>\n",
    "            </form>\n",
    "            <div id=\"recommendations\"></div>\n",
    "        </div>\n",
    "\n",
    "        <script>\n",
    "            document.getElementById('recommendation-form').addEventListener('submit', function(event) {\n",
    "                event.preventDefault();\n",
    "                const userId = document.getElementById('user_id').value;\n",
    "                fetch(`/recommend?user_id=${userId}`)\n",
    "                    .then(response => response.json())\n",
    "                    .then(data => {\n",
    "                        const recommendationsDiv = document.getElementById('recommendations');\n",
    "                        recommendationsDiv.innerHTML = '<h2>Recommended Movies:</h2><ul>';\n",
    "                        data.recommendations.forEach(movie => {\n",
    "                            recommendationsDiv.innerHTML += `<li>${movie}</li>`;\n",
    "                        });\n",
    "                        recommendationsDiv.innerHTML += '</ul>';\n",
    "                    });\n",
    "            });\n",
    "        </script>\n",
    "    </body>\n",
    "    </html>\n",
    "    '''\n",
    "\n",
    "@app.route('/recommend', methods=['GET'])\n",
    "def recommend():\n",
    "    user_id = int(request.args.get('user_id'))\n",
    "    top_n_movies = get_top_n_recommendations(user_id)\n",
    "    return jsonify({'recommendations': top_n_movies})\n",
    "\n",
    "def run_app():\n",
    "    app.run()\n",
    "\n",
    "# Start the Flask app in a separate thread\n",
    "thread = threading.Thread(target=run_app)\n",
    "thread.start()\n"
   ]
  }
 ],
 "metadata": {
  "kernelspec": {
   "display_name": "base",
   "language": "python",
   "name": "python3"
  },
  "language_info": {
   "codemirror_mode": {
    "name": "ipython",
    "version": 3
   },
   "file_extension": ".py",
   "mimetype": "text/x-python",
   "name": "python",
   "nbconvert_exporter": "python",
   "pygments_lexer": "ipython3",
   "version": "3.12.4"
  }
 },
 "nbformat": 4,
 "nbformat_minor": 2
}
